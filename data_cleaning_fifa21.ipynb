{
 "cells": [
  {
   "cell_type": "code",
   "execution_count": 1,
   "metadata": {},
   "outputs": [
    {
     "name": "stderr",
     "output_type": "stream",
     "text": [
      "C:\\Users\\JuanFer\\AppData\\Local\\Temp\\ipykernel_10984\\3626878219.py:5: DtypeWarning: Columns (76) have mixed types. Specify dtype option on import or set low_memory=False.\n",
      "  fifa21 = pd.read_csv('fifa21 raw data V2.csv', sep=',', encoding='UTF-8')\n"
     ]
    }
   ],
   "source": [
    "# reading the file\n",
    "import pandas as pd\n",
    "import numpy as np\n",
    "\n",
    "fifa21 = pd.read_csv('fifa21 raw data V2.csv', sep=',', encoding='UTF-8')\n"
   ]
  },
  {
   "attachments": {},
   "cell_type": "markdown",
   "metadata": {},
   "source": [
    "# <span style='color:salmon'>**Dict. explaining the data**</span>"
   ]
  },
  {
   "attachments": {},
   "cell_type": "markdown",
   "metadata": {},
   "source": [
    "Here is a brief documentation for each column name in the given dataset:\n",
    "\n",
    "***<span style='color:lightgreen'>OK</span>*** **01** - **<u>ID</u>:** The unique identifier for the player<br>\n",
    "***<span style='color:lightgreen'>OK</span>*** **02** - **<u>photoUrl</u>:** The URL of the player's photo<br>\n",
    "***<span style='color:lightgreen'>OK</span>*** **03** - **<u>LongName</u>:** The full name of the player<br>\n",
    "***<span style='color:lightgreen'>OK</span>*** **04** - **<u>playerUrl</u>:** The URL of the player's page on sofifa.com<br>\n",
    "***<span style='color:lightgreen'>OK</span>*** **05** - **<u>Nationality</u>:** The nationality of the player<br>\n",
    "***<span style='color:lightgreen'>OK</span>*** **06** - **<u>Positions</u>:** The positions the player can play<br>\n",
    "***<span style='color:lightgreen'>OK</span>*** **07** - **<u>Name</u>:** The short name of the player<br>\n",
    "***<span style='color:lightgreen'>OK</span>*** **08** - **<u>Age</u>:** The age of the player<br>\n",
    "***<span style='color:lightgreen'>OK</span>*** **09** - **<u>OVA</u>:** The overall rating of the player in FIFA 21<br>\n",
    "***<span style='color:lightgreen'>OK</span>*** **10** - **<u>POT</u>:** The potential rating of the player in FIFA 21<br>\n",
    "***<span style='color:lightgreen'>OK</span>*** **11** - **<u>Club</u>:** The team the player is playing for in FIFA 21<br>\n",
    "***<span style='color:lightgreen'>OK</span>*** **12** - **<u>Contract</u>:** The team the player is playing for in FIFA 21<br>\n",
    "***<span style='color:lightgreen'>OK</span>*** **13** - **<u>Height</u>:** The height of the player in feet and inches<br>\n",
    "***<span style='color:lightgreen'>OK</span>*** **14** - **<u>Weight</u>:** The weight of the player in pounds<br>\n",
    "***<span style='color:lightgreen'>OK</span>*** **15** - **<u>Preferred Foot</u>:** The preferred foot of the player<br>\n",
    "***<span style='color:lightgreen'>OK</span>*** **16** - **<u>BOV</u>:** The best overall rating the player has achieved in their career<br>\n",
    "***<span style='color:lightgreen'>OK</span>*** **17** - **<u>Best Position</u>:** The best position the player has played in their career<br>\n",
    "***<span style='color:lightgreen'>OK</span>*** **18** - **<u>Joined</u>:** The date the player joined their current team in FIFA 21<br>\n",
    "***<span style='color:lightgreen'>OK</span>*** **19** - **<u>Loan Date End</u>:** The date the player's loan contract ends<br>\n",
    "***<span style='color:lightgreen'>OK</span>*** **20** - **<u>Value (€)</u>:** The market value of the player in FIFA 21<br>\n",
    "***<span style='color:lightgreen'>OK</span>*** **21** - **<u>Wage (€)</u>:** The weekly wage of the player in FIFA 21<br>\n",
    "***<span style='color:lightgreen'>OK</span>*** **22** - **<u>Release Clause (€)</u>:** The release clause value of the player in FIFA 21<br>\n",
    "***<span style='color:lightgreen'>OK</span>*** **23** - **<u>Attacking</u>:** The attacking attributes of the player<br>\n",
    "***<span style='color:lightgreen'>OK</span>*** **24** - **<u>Crossing</u>:** The crossing attribute of the player<br>\n",
    "***<span style='color:lightgreen'>OK</span>*** **25** - **<u>Finishing</u>:** The finishing attribute of the player<br>\n",
    "***<span style='color:lightgreen'>OK</span>*** **26** - **<u>Heading Accuracy</u>:** The heading accuracy attribute of the player<br>\n",
    "***<span style='color:lightgreen'>OK</span>*** **27** - **<u>Short Passing</u>:** The short passing attribute of the player<br>\n",
    "***<span style='color:lightgreen'>OK</span>*** **28** - **<u>Volleys</u>:** The volleys attribute of the player<br>\n",
    "***<span style='color:lightgreen'>OK</span>*** **29** - **<u>Skill</u>:** The skill attributes of the player<br>\n",
    "***<span style='color:lightgreen'>OK</span>*** **30** - **<u>Dribbling</u>:** The dribbling attribute of the player<br>\n",
    "***<span style='color:lightgreen'>OK</span>*** **31** - **<u>Curve</u>:** The curve attribute of the player<br>\n",
    "***<span style='color:lightgreen'>OK</span>*** **32** - **<u>FK Accuracy</u>:** The free kick accuracy attribute of the player<br>\n",
    "***<span style='color:lightgreen'>OK</span>*** **33** - **<u>Long Passing</u>:** The long passing attribute of the player<br>\n",
    "***<span style='color:lightgreen'>OK</span>*** **34** - **<u>Ball Control</u>:** The ball control attribute of the player<br>\n",
    "***<span style='color:lightgreen'>OK</span>*** **35** - **<u>Movement</u>:** The movement attributes of the player<br>\n",
    "***<span style='color:lightgreen'>OK</span>*** **36** - **<u>Acceleration</u>:** The acceleration attribute of the player<br>\n",
    "***<span style='color:lightgreen'>OK</span>*** **37** - **<u>Sprint Speed</u>:** The sprint speed attribute of the player<br>\n",
    "***<span style='color:lightgreen'>OK</span>*** **38** - **<u>Agility</u>:** The agility attribute of the player<br>\n",
    "***<span style='color:lightgreen'>OK</span>*** **39** - **<u>Reactions</u>:** The reactions attribute of the player<br>\n",
    "***<span style='color:lightgreen'>OK</span>*** **40** - **<u>Balance</u>:** The balance attribute of the player<br>\n",
    "***<span style='color:lightgreen'>OK</span>*** **41** - **<u>Power</u>:** The power attributes of the player<br>\n",
    "***<span style='color:lightgreen'>OK</span>*** **42** - **<u>Shot Power</u>:** The shot power attribute of the player<br>\n",
    "***<span style='color:lightgreen'>OK</span>*** **43** - **<u>Jumping</u>:** The jumping attribute of the player<br>\n",
    "***<span style='color:lightgreen'>OK</span>*** **44** - **<u>Stamina</u>:** The stamina attribute of the player<br>\n",
    "***<span style='color:lightgreen'>OK</span>*** **45** - **<u>Strength</u>:** The strength attribute of the player<br>\n",
    "***<span style='color:lightgreen'>OK</span>*** **46** - **<u>Long Shots</u>:** The long shots attribute of the player<br>\n",
    "***<span style='color:lightgreen'>OK</span>*** **47** - **<u>Mentality</u>:** The mentality attributes of the player<br>\n",
    "***<span style='color:lightgreen'>OK</span>*** **48** - **<u>Aggression</u>:** The aggression attribute of the player<br>\n",
    "***<span style='color:lightgreen'>OK</span>*** **49** - **<u>Interceptions</u>:** The interceptions attribute of the player<br>\n",
    "***<span style='color:lightgreen'>OK</span>*** **50** - **<u>Positioning</u>:** The positioning attribute of the player<br>\n",
    "***<span style='color:lightgreen'>OK</span>*** **51** - **<u>Vision</u>:** The vision attribute of the player<br>\n",
    "***<span style='color:lightgreen'>OK</span>*** **52** - **<u>Penalties</u>:** The penalties attribute of the player<br>\n",
    "***<span style='color:lightgreen'>OK</span>*** **53** - **<u>Composure</u>:** The composure attribute of the player<br>\n",
    "***<span style='color:lightgreen'>OK</span>*** **54** - **<u>Defending</u>:** The defending attributes of the player<br>\n",
    "***<span style='color:lightgreen'>OK</span>*** **55** - **<u>Marking</u>:** The marking attribute of the player<br>\n",
    "***<span style='color:lightgreen'>OK</span>*** **56** - **<u>Standing Tackle</u>:** The standing tackle attribute of the player<br>\n",
    "***<span style='color:lightgreen'>OK</span>*** **57** - **<u>Sliding Tackle</u>:** The sliding tackle attribute of the player<br>\n",
    "***<span style='color:lightgreen'>OK</span>*** **58** - **<u>Goalkeeping</u>:** The goalkeeping attributes of the player<br>\n",
    "***<span style='color:lightgreen'>OK</span>*** **59** - **<u>GK Diving</u>:** The goalkeeper diving attribute of the player<br>\n",
    "***<span style='color:lightgreen'>OK</span>*** **60** - **<u>GK Handling</u>:** The goalkeeper handling attribute of the player<br>\n",
    "***<span style='color:lightgreen'>OK</span>*** **61** - **<u>GK Kicking</u>:** The goalkeeper kicking attribute of the player<br>\n",
    "***<span style='color:lightgreen'>OK</span>*** **62** - **<u>GK Positioning</u>:** The goalkeeper positioning attribute of the player<br>\n",
    "***<span style='color:lightgreen'>OK</span>*** **63** - **<u>GK Reflexes</u>:** This refers to the goalkeeper's ability to react and make saves quickly<br>\n",
    "***<span style='color:lightgreen'>OK</span>*** **64** - **<u>Total Stats</u>:** This refers to the overall rating of the player based on their performance in all areas of the game<br>\n",
    "***<span style='color:lightgreen'>OK</span>*** **65** - **<u>Base Stats</u>:** This refers to the player's rating in the six main areas of the game: Pace, Shooting, Passing, Dribbling, Defending, and Physicality<br>\n",
    "***<span style='color:lightgreen'>OK</span>*** **66** - **<u>W/F</u>:** This refers to the player's weaker foot ability<br>\n",
    "***<span style='color:lightgreen'>OK</span>*** **67** - **<u>SM</u>:** This refers to the player's skill moves ability<br> \n",
    "***<span style='color:lightgreen'>OK</span>*** **68** - **<u>A/W</u>:** This refers to the player's attacking work rate. It measures how frequently the player participates in attacking actions, such as making runs or positioning themselves in the opponent's half<br>\n",
    "***<span style='color:lightgreen'>OK</span>*** **69** - **<u>D/W</u>:** This refers to the player's defensive work rate. It measures how frequently the player participates in defensive actions, such as tracking back or making tackles<br>\n",
    "***<span style='color:lightgreen'>OK</span>*** **70** - **<u>IR</u>:** This refers to the player's injury resistance. It measures the player's ability to avoid injuries and how quickly they recover from them<br>\n",
    "***<span style='color:lightgreen'>OK</span>*** **71** - **<u>PAC</u>:** This refers to the player's pace or speed attribute. It measures how quickly the player can move with and without the ball<br>\n",
    "***<span style='color:lightgreen'>OK</span>*** **72** - **<u>SHO</u>:** This refers to the player's shooting ability. It measures the player's accuracy and power when shooting the ball<br>\n",
    "***<span style='color:lightgreen'>OK</span>*** **73** - **<u>PAS</u>:** This refers to the player's passing ability. It measures the player's accuracy and range when passing the ball<br>\n",
    "***<span style='color:lightgreen'>OK</span>*** **74** - **<u>DRI</u>:** This refers to the player's dribbling ability. It measures the player's agility, balance, and ball control when dribbling the ball<br>\n",
    "***<span style='color:lightgreen'>OK</span>*** **75** - **<u>DEF</u>:** This refers to the player's defensive ability. It measures the player's ability to tackle, intercept, and defend against opposing players<br> \n",
    "***<span style='color:lightgreen'>OK</span>*** **76** - **<u>PHY</u>:** This refers to the player's physicality or strength. It measures the player's ability to win physical battles and maintain possession of the ball<br> \n",
    "***<span style='color:lightgreen'>OK</span>*** **77** - **<u>Hits</u>:** This refers to the number of times the player's profile has been viewed on the website<br>\n",
    "***<span style='color:lightgreen'>OK</span>*** **78** - **<u>Loan Date Start</u>:** The date the player's loan contract has started<br>"
   ]
  },
  {
   "attachments": {},
   "cell_type": "markdown",
   "metadata": {},
   "source": [
    "# <span style='color:salmon'>**Cleaning process**</span>"
   ]
  },
  {
   "attachments": {},
   "cell_type": "markdown",
   "metadata": {},
   "source": [
    "## <span style='color:aquamarine'><u>**Club</u>:**</span>"
   ]
  },
  {
   "cell_type": "code",
   "execution_count": 2,
   "metadata": {},
   "outputs": [],
   "source": [
    "# replacing the \"\\n\" for \"\"\n",
    "fifa21['Club'] = fifa21['Club'].str.replace('\\n', '')"
   ]
  },
  {
   "cell_type": "code",
   "execution_count": 3,
   "metadata": {},
   "outputs": [
    {
     "data": {
      "text/plain": [
       "8709           Türkgücü München\n",
       "1761               FC Barcelona\n",
       "13959                   FC Sion\n",
       "445         Eintracht Frankfurt\n",
       "7038     New England Revolution\n",
       "Name: Club, dtype: object"
      ]
     },
     "execution_count": 3,
     "metadata": {},
     "output_type": "execute_result"
    }
   ],
   "source": [
    "# testing changes\n",
    "fifa21['Club'].sample(5)"
   ]
  },
  {
   "attachments": {},
   "cell_type": "markdown",
   "metadata": {},
   "source": [
    "## <span style='color:aquamarine'><u>**Height</u>:**</span>"
   ]
  },
  {
   "cell_type": "code",
   "execution_count": 4,
   "metadata": {},
   "outputs": [
    {
     "name": "stderr",
     "output_type": "stream",
     "text": [
      "C:\\Users\\JuanFer\\AppData\\Local\\Temp\\ipykernel_10984\\3212007336.py:2: FutureWarning: The default value of regex will change from True to False in a future version.\n",
      "  fifa21['Height'] = fifa21['Height'].str.replace(\"(\\d+)'(\\d+)\\\"\", lambda x: str(\n"
     ]
    }
   ],
   "source": [
    "# Replace original values with new values in cm\n",
    "fifa21['Height'] = fifa21['Height'].str.replace(\"(\\d+)'(\\d+)\\\"\", lambda x: str(\n",
    "    int(pd.to_numeric(x.group(1)) * 30.48 + pd.to_numeric(x.group(2)) * 2.54)) + \"cm\")"
   ]
  },
  {
   "cell_type": "code",
   "execution_count": 5,
   "metadata": {},
   "outputs": [
    {
     "data": {
      "text/plain": [
       "17643    193cm\n",
       "17966    175cm\n",
       "13648    188cm\n",
       "7034     179cm\n",
       "7832     183cm\n",
       "Name: Height, dtype: object"
      ]
     },
     "execution_count": 5,
     "metadata": {},
     "output_type": "execute_result"
    }
   ],
   "source": [
    "# testing changes\n",
    "fifa21['Height'].sample(5)"
   ]
  },
  {
   "attachments": {},
   "cell_type": "markdown",
   "metadata": {},
   "source": [
    "## <span style='color:aquamarine'><u>**Weight</u>:**</span>"
   ]
  },
  {
   "cell_type": "code",
   "execution_count": 6,
   "metadata": {},
   "outputs": [
    {
     "name": "stderr",
     "output_type": "stream",
     "text": [
      "C:\\Users\\JuanFer\\AppData\\Local\\Temp\\ipykernel_10984\\2918957512.py:10: SettingWithCopyWarning: \n",
      "A value is trying to be set on a copy of a slice from a DataFrame\n",
      "\n",
      "See the caveats in the documentation: https://pandas.pydata.org/pandas-docs/stable/user_guide/indexing.html#returning-a-view-versus-a-copy\n",
      "  fifa21['Weight'][data[i]] = fifa21['Weight'][data[i]\n",
      "C:\\Users\\JuanFer\\AppData\\Local\\Temp\\ipykernel_10984\\2918957512.py:12: SettingWithCopyWarning: \n",
      "A value is trying to be set on a copy of a slice from a DataFrame\n",
      "\n",
      "See the caveats in the documentation: https://pandas.pydata.org/pandas-docs/stable/user_guide/indexing.html#returning-a-view-versus-a-copy\n",
      "  fifa21['Weight'][data[i]] = lbs_to_kg(\n",
      "C:\\Users\\JuanFer\\AppData\\Local\\Temp\\ipykernel_10984\\2918957512.py:15: SettingWithCopyWarning: \n",
      "A value is trying to be set on a copy of a slice from a DataFrame\n",
      "\n",
      "See the caveats in the documentation: https://pandas.pydata.org/pandas-docs/stable/user_guide/indexing.html#returning-a-view-versus-a-copy\n",
      "  fifa21['Weight'][data[i]] = fifa21['Weight'][data[i]] + 'kg'\n"
     ]
    }
   ],
   "source": [
    "# function to transform lbs to kg\n",
    "def lbs_to_kg(lbs):\n",
    "    return (lbs * 0.45359237).astype(int)\n",
    "\n",
    "# finding fields ending with lbs, and getting the indexes of those fields\n",
    "data = np.where(fifa21['Weight'].str.endswith('lbs'))\n",
    "\n",
    "# looping and transforming the data\n",
    "for i in range(len(data)):\n",
    "    fifa21['Weight'][data[i]] = fifa21['Weight'][data[i]\n",
    "                                                 ].str.replace('lbs', '')\n",
    "    fifa21['Weight'][data[i]] = lbs_to_kg(\n",
    "        fifa21['Weight'][data[i]].astype(float))\n",
    "    fifa21['Weight'] = fifa21['Weight'].astype(str)\n",
    "    fifa21['Weight'][data[i]] = fifa21['Weight'][data[i]] + 'kg'\n"
   ]
  },
  {
   "cell_type": "code",
   "execution_count": 7,
   "metadata": {},
   "outputs": [
    {
     "name": "stdout",
     "output_type": "stream",
     "text": [
      "['72kg' '83kg' '87kg' '70kg' '68kg' '80kg' '71kg' '91kg' '73kg' '85kg'\n",
      " '92kg' '69kg' '84kg' '96kg' '81kg' '82kg' '75kg' '86kg' '89kg' '74kg'\n",
      " '76kg' '64kg' '78kg' '90kg' '66kg' '60kg' '94kg' '79kg' '67kg' '65kg'\n",
      " '59kg' '61kg' '93kg' '88kg' '97kg' '77kg' '62kg' '63kg' '95kg' '100kg'\n",
      " '58kg' '98kg' '103kg' '99kg' '102kg' '56kg' '101kg' '57kg' '55kg' '104kg'\n",
      " '107kg' '110kg' '53kg' '50kg' '54kg' '52kg']\n"
     ]
    },
    {
     "data": {
      "text/plain": [
       "12718    80kg\n",
       "16352    78kg\n",
       "13099    69kg\n",
       "3286     90kg\n",
       "3467     67kg\n",
       "Name: Weight, dtype: object"
      ]
     },
     "execution_count": 7,
     "metadata": {},
     "output_type": "execute_result"
    }
   ],
   "source": [
    "# testing changes\n",
    "print(fifa21['Weight'].unique())\n",
    "fifa21['Weight'].sample(5)\n"
   ]
  },
  {
   "attachments": {},
   "cell_type": "markdown",
   "metadata": {},
   "source": [
    "## <span style='color:aquamarine'><u>**Value</u>:**</span>"
   ]
  },
  {
   "cell_type": "code",
   "execution_count": 8,
   "metadata": {},
   "outputs": [
    {
     "name": "stderr",
     "output_type": "stream",
     "text": [
      "C:\\Users\\JuanFer\\AppData\\Local\\Temp\\ipykernel_10984\\2673114124.py:18: SettingWithCopyWarning: \n",
      "A value is trying to be set on a copy of a slice from a DataFrame\n",
      "\n",
      "See the caveats in the documentation: https://pandas.pydata.org/pandas-docs/stable/user_guide/indexing.html#returning-a-view-versus-a-copy\n",
      "  fifa21['Value'][data_k[i]] = fifa21['Value'][data_k[i]\n",
      "C:\\Users\\JuanFer\\AppData\\Local\\Temp\\ipykernel_10984\\2673114124.py:20: SettingWithCopyWarning: \n",
      "A value is trying to be set on a copy of a slice from a DataFrame\n",
      "\n",
      "See the caveats in the documentation: https://pandas.pydata.org/pandas-docs/stable/user_guide/indexing.html#returning-a-view-versus-a-copy\n",
      "  fifa21['Value'][data_k[i]] = k_to_numbers(\n",
      "C:\\Users\\JuanFer\\AppData\\Local\\Temp\\ipykernel_10984\\2673114124.py:24: SettingWithCopyWarning: \n",
      "A value is trying to be set on a copy of a slice from a DataFrame\n",
      "\n",
      "See the caveats in the documentation: https://pandas.pydata.org/pandas-docs/stable/user_guide/indexing.html#returning-a-view-versus-a-copy\n",
      "  fifa21['Value'][data_m[i]] = fifa21['Value'][data_m[i]\n",
      "C:\\Users\\JuanFer\\AppData\\Local\\Temp\\ipykernel_10984\\2673114124.py:26: SettingWithCopyWarning: \n",
      "A value is trying to be set on a copy of a slice from a DataFrame\n",
      "\n",
      "See the caveats in the documentation: https://pandas.pydata.org/pandas-docs/stable/user_guide/indexing.html#returning-a-view-versus-a-copy\n",
      "  fifa21['Value'][data_m[i]] = m_to_numbers(\n"
     ]
    }
   ],
   "source": [
    "# from k to 1000\n",
    "def k_to_numbers(number):\n",
    "    return (number * 1000).astype(int)\n",
    "\n",
    "# from m to 1.000.000\n",
    "def m_to_numbers(number):\n",
    "    return (number * 1000000).astype(int)\n",
    "\n",
    "# deleting the € sign\n",
    "fifa21['Value'] = fifa21['Value'].str.replace('€', '')\n",
    "\n",
    "# finding fields ending with K and M, and getting the indexes of those fields\n",
    "data_k = np.where(fifa21['Value'].str.endswith('K'))\n",
    "data_m = np.where(fifa21['Value'].str.endswith('M'))\n",
    "\n",
    "# looping and transforming the data\n",
    "for i in range(len(data_k)):\n",
    "    fifa21['Value'][data_k[i]] = fifa21['Value'][data_k[i]\n",
    "                                                 ].str.replace('K', '')\n",
    "    fifa21['Value'][data_k[i]] = k_to_numbers(\n",
    "        fifa21['Value'][data_k[i]].astype(float))\n",
    "\n",
    "for i in range(len(data_m)):\n",
    "    fifa21['Value'][data_m[i]] = fifa21['Value'][data_m[i]\n",
    "                                                 ].str.replace('M', '')\n",
    "    fifa21['Value'][data_m[i]] = m_to_numbers(\n",
    "        fifa21['Value'][data_m[i]].astype(float))\n",
    "\n"
   ]
  },
  {
   "cell_type": "code",
   "execution_count": 9,
   "metadata": {},
   "outputs": [],
   "source": [
    "# rename column\n",
    "fifa21 = fifa21.rename(columns={\n",
    "    'Value': 'Value (€)'\n",
    "})"
   ]
  },
  {
   "cell_type": "code",
   "execution_count": 10,
   "metadata": {},
   "outputs": [
    {
     "data": {
      "text/plain": [
       "7193      1900000\n",
       "6668      1300000\n",
       "968      14000000\n",
       "16536      350000\n",
       "12683      400000\n",
       "Name: Value (€), dtype: object"
      ]
     },
     "execution_count": 10,
     "metadata": {},
     "output_type": "execute_result"
    }
   ],
   "source": [
    "# testing changes\n",
    "fifa21['Value (€)'].sample(5)\n"
   ]
  },
  {
   "attachments": {},
   "cell_type": "markdown",
   "metadata": {},
   "source": [
    "## <span style='color:aquamarine'><u>**Wage</u>:**</span>"
   ]
  },
  {
   "cell_type": "code",
   "execution_count": 11,
   "metadata": {},
   "outputs": [
    {
     "name": "stderr",
     "output_type": "stream",
     "text": [
      "C:\\Users\\JuanFer\\AppData\\Local\\Temp\\ipykernel_10984\\2635512329.py:9: SettingWithCopyWarning: \n",
      "A value is trying to be set on a copy of a slice from a DataFrame\n",
      "\n",
      "See the caveats in the documentation: https://pandas.pydata.org/pandas-docs/stable/user_guide/indexing.html#returning-a-view-versus-a-copy\n",
      "  fifa21['Wage'][data_k[i]] = fifa21['Wage'][data_k[i]].str.replace('K', '')\n",
      "C:\\Users\\JuanFer\\AppData\\Local\\Temp\\ipykernel_10984\\2635512329.py:10: SettingWithCopyWarning: \n",
      "A value is trying to be set on a copy of a slice from a DataFrame\n",
      "\n",
      "See the caveats in the documentation: https://pandas.pydata.org/pandas-docs/stable/user_guide/indexing.html#returning-a-view-versus-a-copy\n",
      "  fifa21['Wage'][data_k[i]] = k_to_numbers(\n"
     ]
    }
   ],
   "source": [
    "# deleting the € sign\n",
    "fifa21['Wage'] = fifa21['Wage'].str.replace('€', '')\n",
    "\n",
    "# finding fields ending with K, and getting the indexes of those fields\n",
    "data_k = np.where(fifa21['Wage'].str.endswith('K'))\n",
    "\n",
    "# looping and transforming the data\n",
    "for i in range(len(data_k)):\n",
    "    fifa21['Wage'][data_k[i]] = fifa21['Wage'][data_k[i]].str.replace('K', '')\n",
    "    fifa21['Wage'][data_k[i]] = k_to_numbers(\n",
    "        fifa21['Wage'][data_k[i]].astype(float))\n",
    "    "
   ]
  },
  {
   "cell_type": "code",
   "execution_count": 12,
   "metadata": {},
   "outputs": [],
   "source": [
    "# rename column\n",
    "fifa21 = fifa21.rename(columns={\n",
    "    'Wage': 'Wage (€)'\n",
    "})\n"
   ]
  },
  {
   "cell_type": "code",
   "execution_count": 13,
   "metadata": {},
   "outputs": [
    {
     "data": {
      "text/plain": [
       "10752     1000\n",
       "9004      4000\n",
       "2568     63000\n",
       "3584     16000\n",
       "5904      9000\n",
       "Name: Wage (€), dtype: object"
      ]
     },
     "execution_count": 13,
     "metadata": {},
     "output_type": "execute_result"
    }
   ],
   "source": [
    "# testing changes\n",
    "fifa21['Wage (€)'].sample(5)\n"
   ]
  },
  {
   "attachments": {},
   "cell_type": "markdown",
   "metadata": {},
   "source": [
    "## <span style='color:aquamarine'><u>**Release Clause</u>:**</span>"
   ]
  },
  {
   "cell_type": "code",
   "execution_count": 14,
   "metadata": {},
   "outputs": [
    {
     "name": "stderr",
     "output_type": "stream",
     "text": [
      "C:\\Users\\JuanFer\\AppData\\Local\\Temp\\ipykernel_10984\\3532582803.py:10: SettingWithCopyWarning: \n",
      "A value is trying to be set on a copy of a slice from a DataFrame\n",
      "\n",
      "See the caveats in the documentation: https://pandas.pydata.org/pandas-docs/stable/user_guide/indexing.html#returning-a-view-versus-a-copy\n",
      "  fifa21['Release Clause'][data_k[i]] = fifa21['Release Clause'][data_k[i]\n",
      "C:\\Users\\JuanFer\\AppData\\Local\\Temp\\ipykernel_10984\\3532582803.py:12: SettingWithCopyWarning: \n",
      "A value is trying to be set on a copy of a slice from a DataFrame\n",
      "\n",
      "See the caveats in the documentation: https://pandas.pydata.org/pandas-docs/stable/user_guide/indexing.html#returning-a-view-versus-a-copy\n",
      "  fifa21['Release Clause'][data_k[i]] = k_to_numbers(\n",
      "C:\\Users\\JuanFer\\AppData\\Local\\Temp\\ipykernel_10984\\3532582803.py:16: SettingWithCopyWarning: \n",
      "A value is trying to be set on a copy of a slice from a DataFrame\n",
      "\n",
      "See the caveats in the documentation: https://pandas.pydata.org/pandas-docs/stable/user_guide/indexing.html#returning-a-view-versus-a-copy\n",
      "  fifa21['Release Clause'][data_m[i]] = fifa21['Release Clause'][data_m[i]\n",
      "C:\\Users\\JuanFer\\AppData\\Local\\Temp\\ipykernel_10984\\3532582803.py:18: SettingWithCopyWarning: \n",
      "A value is trying to be set on a copy of a slice from a DataFrame\n",
      "\n",
      "See the caveats in the documentation: https://pandas.pydata.org/pandas-docs/stable/user_guide/indexing.html#returning-a-view-versus-a-copy\n",
      "  fifa21['Release Clause'][data_m[i]] = m_to_numbers(\n"
     ]
    }
   ],
   "source": [
    "# deleting the € sign\n",
    "fifa21['Release Clause'] = fifa21['Release Clause'].str.replace('€', '')\n",
    "\n",
    "# finding fields ending with K, and getting the indexes of those fields\n",
    "data_k = np.where(fifa21['Release Clause'].str.endswith('K'))\n",
    "data_m = np.where(fifa21['Release Clause'].str.endswith('M'))\n",
    "\n",
    "# looping and transforming the data\n",
    "for i in range(len(data_k)):\n",
    "    fifa21['Release Clause'][data_k[i]] = fifa21['Release Clause'][data_k[i]\n",
    "                                                                   ].str.replace('K', '')\n",
    "    fifa21['Release Clause'][data_k[i]] = k_to_numbers(\n",
    "        fifa21['Release Clause'][data_k[i]].astype(float))\n",
    "\n",
    "for i in range(len(data_m)):\n",
    "    fifa21['Release Clause'][data_m[i]] = fifa21['Release Clause'][data_m[i]\n",
    "                                                                   ].str.replace('M', '')\n",
    "    fifa21['Release Clause'][data_m[i]] = m_to_numbers(\n",
    "        fifa21['Release Clause'][data_m[i]].astype(float))\n",
    "\n",
    "fifa21['Release Clause'] = pd.to_numeric(fifa21['Release Clause'])\n",
    "fifa21['Release Clause'] = fifa21['Release Clause'].apply('{:,}'.format)\n"
   ]
  },
  {
   "cell_type": "code",
   "execution_count": 15,
   "metadata": {},
   "outputs": [],
   "source": [
    "# rename column\n",
    "fifa21 = fifa21.rename(columns={\n",
    "    'Release Clause': 'Release Clause (€)'\n",
    "})\n"
   ]
  },
  {
   "cell_type": "code",
   "execution_count": 16,
   "metadata": {},
   "outputs": [
    {
     "data": {
      "text/plain": [
       "639      16,800,000\n",
       "7067        520,000\n",
       "16789       374,000\n",
       "3924        878,000\n",
       "6111      2,300,000\n",
       "Name: Release Clause (€), dtype: object"
      ]
     },
     "execution_count": 16,
     "metadata": {},
     "output_type": "execute_result"
    }
   ],
   "source": [
    "fifa21['Release Clause (€)'].sample(5)\n"
   ]
  },
  {
   "attachments": {},
   "cell_type": "markdown",
   "metadata": {},
   "source": [
    "## <span style='color:aquamarine'><u>**W/F, SM & IR</u>:**</span>"
   ]
  },
  {
   "cell_type": "code",
   "execution_count": 17,
   "metadata": {},
   "outputs": [],
   "source": [
    "# I have to apply the same changes to all these 3 cols\n",
    "columns_names = ['W/F', 'SM', 'IR']\n",
    "\n",
    "# looping and applying the changes: Delete the '★' and with strip delete the extra spaces\n",
    "for column in columns_names:\n",
    "    fifa21[column] = fifa21[column].str.replace('★', '')\n",
    "    fifa21[column] = fifa21[column].str.strip()\n",
    "    fifa21[column] = fifa21[column].astype(int)\n"
   ]
  },
  {
   "cell_type": "code",
   "execution_count": 18,
   "metadata": {},
   "outputs": [
    {
     "name": "stdout",
     "output_type": "stream",
     "text": [
      "1791     3\n",
      "6016     1\n",
      "17390    1\n",
      "5544     1\n",
      "671      2\n",
      "Name: IR, dtype: int32\n",
      "172      3\n",
      "15408    3\n",
      "11926    2\n",
      "16819    3\n",
      "17118    3\n",
      "Name: W/F, dtype: int32\n",
      "9682     2\n",
      "10174    3\n",
      "4621     2\n",
      "2924     3\n",
      "8434     2\n",
      "Name: SM, dtype: int32\n"
     ]
    }
   ],
   "source": [
    "print(fifa21['IR'].sample(5))\n",
    "print(fifa21['W/F'].sample(5))\n",
    "print(fifa21['SM'].sample(5))\n"
   ]
  },
  {
   "attachments": {},
   "cell_type": "markdown",
   "metadata": {},
   "source": [
    "## <span style='color:aquamarine'><u>**Loan Date End</u>:**</span>"
   ]
  },
  {
   "cell_type": "code",
   "execution_count": 19,
   "metadata": {},
   "outputs": [],
   "source": [
    "# replacing na values with \"permanent contract\"\n",
    "\n",
    "fifa21.loc[\n",
    "    fifa21['Loan Date End'].isna().eq(True),\n",
    "    'Loan Date End'] = 'Permanent contract'\n",
    "\n",
    "# filter rule\n",
    "mask = fifa21['Loan Date End'].ne('Permanent contract')\n",
    "\n",
    "# transforming the date format Jan 4, 2021 to 2021-01-04 \n",
    "fifa21.loc[mask, 'Loan Date End'] = pd.to_datetime(\n",
    "    fifa21.loc[mask, 'Loan Date End'], format='%b %d, %Y').dt.strftime('%Y-%m-%d')"
   ]
  },
  {
   "cell_type": "code",
   "execution_count": 20,
   "metadata": {},
   "outputs": [
    {
     "data": {
      "text/plain": [
       "214      Permanent contract\n",
       "4392     Permanent contract\n",
       "2006     Permanent contract\n",
       "1975     Permanent contract\n",
       "11616    Permanent contract\n",
       "Name: Loan Date End, dtype: object"
      ]
     },
     "execution_count": 20,
     "metadata": {},
     "output_type": "execute_result"
    }
   ],
   "source": [
    "fifa21['Loan Date End'].sample(5)\n"
   ]
  },
  {
   "attachments": {},
   "cell_type": "markdown",
   "metadata": {},
   "source": [
    "## <span style='color:aquamarine'><u>**Contract</u>:**</span>"
   ]
  },
  {
   "cell_type": "code",
   "execution_count": 21,
   "metadata": {},
   "outputs": [],
   "source": [
    "# replacing ~ with a single -\n",
    "fifa21['Contract'] = fifa21['Contract'].str.replace('~', '-')\n",
    "\n",
    "# findenf all the On loan and deleting the ' On loan' string\n",
    "fifa21['Contract'] = fifa21['Contract'].str.replace(' On Loan', '')\n",
    "\n",
    "# filter rule for On loan contracts\n",
    "mask = fifa21['Contract'].str.contains(',')\n",
    "\n",
    "# if the player is on loan transform the date to YYYY-MM-DD format, I will use these data to create a new column named loand date start\n",
    "fifa21.loc[mask, 'Contract'] = pd.to_datetime(\n",
    "    fifa21.loc[mask, 'Contract'], format='%b %d, %Y').dt.strftime('%Y-%m-%d')\n"
   ]
  },
  {
   "cell_type": "code",
   "execution_count": 22,
   "metadata": {},
   "outputs": [
    {
     "data": {
      "text/plain": [
       "6480     2003 - 2021\n",
       "18262    2020 - 2022\n",
       "15789    2019 - 2021\n",
       "51       2011 - 2022\n",
       "14540    2020 - 2021\n",
       "Name: Contract, dtype: object"
      ]
     },
     "execution_count": 22,
     "metadata": {},
     "output_type": "execute_result"
    }
   ],
   "source": [
    "fifa21['Contract'].sample(5)"
   ]
  },
  {
   "attachments": {},
   "cell_type": "markdown",
   "metadata": {},
   "source": [
    "## <span style='color:aquamarine'><u>**Loan Date Start</u>:**</span>"
   ]
  },
  {
   "cell_type": "code",
   "execution_count": 23,
   "metadata": {},
   "outputs": [],
   "source": [
    "# creating the 'Loan Date Start' col with a default value of 'Permanent contract'\n",
    "fifa21['Loan Date Start'] = 'Permanent contract'\n",
    "\n",
    "# filter rule: if the len of the value in the field is == 10, that is because the date is like YYYY-MM-DD\n",
    "mask = fifa21['Contract'].str.len() == 10\n",
    "\n",
    "# In those cases asing to this column the value from contract that we transformed in the previous step\n",
    "fifa21.loc[\n",
    "    mask,\n",
    "    'Loan Date Start'] = fifa21['Contract']"
   ]
  },
  {
   "cell_type": "code",
   "execution_count": 24,
   "metadata": {},
   "outputs": [
    {
     "data": {
      "text/plain": [
       "8806     Permanent contract\n",
       "6914     Permanent contract\n",
       "12485    Permanent contract\n",
       "18347    Permanent contract\n",
       "1546     Permanent contract\n",
       "Name: Loan Date Start, dtype: object"
      ]
     },
     "execution_count": 24,
     "metadata": {},
     "output_type": "execute_result"
    }
   ],
   "source": [
    "fifa21['Loan Date Start'].sample(5)\n"
   ]
  },
  {
   "attachments": {},
   "cell_type": "markdown",
   "metadata": {},
   "source": [
    "## <span style='color:aquamarine'><u>**Hits</u>:**</span>"
   ]
  },
  {
   "cell_type": "code",
   "execution_count": 25,
   "metadata": {},
   "outputs": [
    {
     "name": "stderr",
     "output_type": "stream",
     "text": [
      "C:\\Users\\JuanFer\\AppData\\Local\\Temp\\ipykernel_10984\\4277030962.py:14: SettingWithCopyWarning: \n",
      "A value is trying to be set on a copy of a slice from a DataFrame\n",
      "\n",
      "See the caveats in the documentation: https://pandas.pydata.org/pandas-docs/stable/user_guide/indexing.html#returning-a-view-versus-a-copy\n",
      "  fifa21['Hits'][data_k[i]] = fifa21['Hits'][data_k[i]].str.replace('K', '')\n",
      "C:\\Users\\JuanFer\\AppData\\Local\\Temp\\ipykernel_10984\\4277030962.py:15: SettingWithCopyWarning: \n",
      "A value is trying to be set on a copy of a slice from a DataFrame\n",
      "\n",
      "See the caveats in the documentation: https://pandas.pydata.org/pandas-docs/stable/user_guide/indexing.html#returning-a-view-versus-a-copy\n",
      "  fifa21['Hits'][data_k[i]] = k_to_numbers(\n"
     ]
    }
   ],
   "source": [
    "# replacing nan values\n",
    "fifa21.loc[\n",
    "    fifa21['Hits'].isna().eq(True),\n",
    "    'Hits'] = '-'\n",
    "\n",
    "# transforming into str value\n",
    "fifa21['Hits'] = fifa21['Hits'].astype(str)\n",
    "\n",
    "# finfing the fields ended with K,and getting the indexes\n",
    "data_k = np.where(fifa21['Hits'].str.endswith('K'))\n",
    "\n",
    "# looping and transforming the data\n",
    "for i in range(len(data_k)):\n",
    "    fifa21['Hits'][data_k[i]] = fifa21['Hits'][data_k[i]].str.replace('K', '')\n",
    "    fifa21['Hits'][data_k[i]] = k_to_numbers(\n",
    "        fifa21['Hits'][data_k[i]].astype(float))\n",
    "\n",
    "# replacing the '-' with '0' \n",
    "fifa21.loc[\n",
    "    fifa21['Hits'].eq('-'),\n",
    "    'Hits'] = '0'\n",
    "\n",
    "# transforming everything to numbers\n",
    "fifa21['Hits'] = pd.to_numeric(fifa21['Hits'])\n",
    "fifa21['Hits'] = fifa21['Hits'].astype(int)"
   ]
  },
  {
   "cell_type": "code",
   "execution_count": 26,
   "metadata": {},
   "outputs": [
    {
     "data": {
      "text/plain": [
       "14528     1\n",
       "4205     11\n",
       "14796     4\n",
       "14247     2\n",
       "14496     2\n",
       "Name: Hits, dtype: int32"
      ]
     },
     "execution_count": 26,
     "metadata": {},
     "output_type": "execute_result"
    }
   ],
   "source": [
    "fifa21['Hits'].sample(5)"
   ]
  },
  {
   "attachments": {},
   "cell_type": "markdown",
   "metadata": {},
   "source": [
    "# <span style='color:salmon'>**Saving to CSV**</span>"
   ]
  },
  {
   "cell_type": "code",
   "execution_count": 30,
   "metadata": {},
   "outputs": [],
   "source": [
    "fifa21.to_csv('cleaned_fifa21.csv', sep=',', encoding='UTF-8', index= False)"
   ]
  }
 ],
 "metadata": {
  "kernelspec": {
   "display_name": "Python 3",
   "language": "python",
   "name": "python3"
  },
  "language_info": {
   "codemirror_mode": {
    "name": "ipython",
    "version": 3
   },
   "file_extension": ".py",
   "mimetype": "text/x-python",
   "name": "python",
   "nbconvert_exporter": "python",
   "pygments_lexer": "ipython3",
   "version": "3.10.7"
  },
  "orig_nbformat": 4
 },
 "nbformat": 4,
 "nbformat_minor": 2
}
